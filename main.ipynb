{
 "cells": [
  {
   "cell_type": "code",
   "execution_count": 149,
   "metadata": {},
   "outputs": [],
   "source": [
    "from pyspark.sql import SparkSession\n",
    "from pyspark.sql import SparkSession\n",
    "from pyspark.sql.types import StructField\n",
    "from pyspark.sql.types import StructType\n",
    "from pyspark.sql.types import DateType\n",
    "from pyspark.sql.types import FloatType\n",
    "from pyspark.sql.types import StringType\n",
    "import pyspark.sql.functions as F\n",
    "from pyspark.sql.functions import round, col, avg, max"
   ]
  },
  {
   "cell_type": "code",
   "execution_count": 137,
   "metadata": {},
   "outputs": [],
   "source": [
    "spark = SparkSession.builder.master('local').getOrCreate()"
   ]
  },
  {
   "cell_type": "code",
   "execution_count": 138,
   "metadata": {},
   "outputs": [
    {
     "name": "stdout",
     "output_type": "stream",
     "text": [
      "+----------+------+-----+------+------+------+--------+\n",
      "|      Date|  Open| High|   Low| Close|Volume|Currency|\n",
      "+----------+------+-----+------+------+------+--------+\n",
      "|2000-01-03|122.25|124.0| 116.1| 116.5|6640.0|     USD|\n",
      "|2000-01-04|116.25|120.5|115.75|116.25|5492.0|     USD|\n",
      "|2000-01-05| 115.0|121.0| 115.0| 118.6|6165.0|     USD|\n",
      "|2000-01-06| 119.0|121.4| 116.5|116.85|5094.0|     USD|\n",
      "+----------+------+-----+------+------+------+--------+\n",
      "only showing top 4 rows\n",
      "\n"
     ]
    }
   ],
   "source": [
    "#Read the coffee data CSV file into a Spark DataFrame.\n",
    "# All the columns should be floats except for the 'Date' and 'Currency' columns.\n",
    "# Columns from Aggregate Functions\n",
    "\n",
    "data_file = './data/coffee.csv'\n",
    "\n",
    "csvSchema = StructType([\n",
    "    StructField('Date',DateType(),True),\n",
    "    StructField('Open',FloatType(),True),\n",
    "    StructField('High',FloatType(),True),\n",
    "    StructField('Low',FloatType(),True),\n",
    "    StructField('Close',FloatType(),True),\n",
    "    StructField('Volume',FloatType(),True),\n",
    "    StructField('Currency',StringType(),True),\n",
    "    ])\n",
    "\n",
    "df=spark.read.format(\"csv\").option('header','true').schema(csvSchema).load(data_file)\n",
    "\n",
    "df.show(4)"
   ]
  },
  {
   "cell_type": "code",
   "execution_count": 139,
   "metadata": {},
   "outputs": [
    {
     "name": "stdout",
     "output_type": "stream",
     "text": [
      "+----------+------+-----+------+------+------+--------+----------+--------+\n",
      "|      Date|  Open| High|   Low| Close|Volume|Currency|open_close|high_low|\n",
      "+----------+------+-----+------+------+------+--------+----------+--------+\n",
      "|2000-01-03|122.25|124.0| 116.1| 116.5|6640.0|     USD|      5.75|     7.9|\n",
      "|2000-01-04|116.25|120.5|115.75|116.25|5492.0|     USD|       0.0|    4.75|\n",
      "|2000-01-05| 115.0|121.0| 115.0| 118.6|6165.0|     USD|      -3.6|     6.0|\n",
      "|2000-01-06| 119.0|121.4| 116.5|116.85|5094.0|     USD|      2.15|     4.9|\n",
      "+----------+------+-----+------+------+------+--------+----------+--------+\n",
      "only showing top 4 rows\n",
      "\n"
     ]
    }
   ],
   "source": [
    "# Add a column to the DataFrame where the values are the difference between 'Open' and 'Close'.\n",
    "df = df.withColumn('open_close', round((df['Open'] - df['Close']), 2))\n",
    "\n",
    "# Add a column to the DataFrame where the values are the difference between 'High' and 'Low'.\n",
    "df = df.withColumn('high_low', round(( df['High'] - df['Low'] ), 2))\n",
    "\n",
    "df.show(4)"
   ]
  },
  {
   "cell_type": "code",
   "execution_count": 140,
   "metadata": {},
   "outputs": [
    {
     "name": "stdout",
     "output_type": "stream",
     "text": [
      "+----------+------+------+------+------+------+--------+----------+--------+-----------+--------------+\n",
      "|      Date|  Open|  High|   Low| Close|Volume|Currency|open_close|high_low|high_volume|open_close_abs|\n",
      "+----------+------+------+------+------+------+--------+----------+--------+-----------+--------------+\n",
      "|2000-01-03|122.25| 124.0| 116.1| 116.5|6640.0|     USD|      5.75|     7.9|       true|          5.75|\n",
      "|2000-01-04|116.25| 120.5|115.75|116.25|5492.0|     USD|       0.0|    4.75|       true|           0.0|\n",
      "|2000-01-05| 115.0| 121.0| 115.0| 118.6|6165.0|     USD|      -3.6|     6.0|       true|           3.6|\n",
      "|2000-01-06| 119.0| 121.4| 116.5|116.85|5094.0|     USD|      2.15|     4.9|       true|          2.15|\n",
      "|2000-01-07|117.25|117.75| 113.8|114.15|6855.0|     USD|       3.1|    3.95|       true|           3.1|\n",
      "+----------+------+------+------+------+------+--------+----------+--------+-----------+--------------+\n",
      "only showing top 5 rows\n",
      "\n"
     ]
    }
   ],
   "source": [
    "# Add a column to the DataFrame where the values are 'True' if the volume for that day was 100 or above, and otherwise 'False'.\n",
    "df = df.withColumn('high_volume',\n",
    "    F.when((col(\"Volume\") > 100), True)\\\n",
    "    .when((col(\"Volume\") < 100), False)\n",
    ")\n",
    "\n",
    "# Once you have a column for the difference between 'Open' and 'Close', add another column that contains the absolute values of the numbers in that column.\n",
    "df = df.withColumn('open_close_abs',abs(df.open_close))\n",
    "\n",
    "df.show(5)"
   ]
  },
  {
   "cell_type": "code",
   "execution_count": 141,
   "metadata": {},
   "outputs": [
    {
     "name": "stdout",
     "output_type": "stream",
     "text": [
      "+----------+------+------+------+------+------+--------+----------+--------+-----------+--------------+---------+\n",
      "|      Date|  Open|  High|   Low| Close|Volume|Currency|open_close|high_low|high_volume|open_close_abs|net_sales|\n",
      "+----------+------+------+------+------+------+--------+----------+--------+-----------+--------------+---------+\n",
      "|2000-01-03|122.25| 124.0| 116.1| 116.5|6640.0|     USD|      5.75|     7.9|       true|          5.75|794891.01|\n",
      "|2000-01-04|116.25| 120.5|115.75|116.25|5492.0|     USD|       0.0|    4.75|       true|           0.0|643593.75|\n",
      "|2000-01-05| 115.0| 121.0| 115.0| 118.6|6165.0|     USD|      -3.6|     6.0|       true|           3.6|723771.01|\n",
      "|2000-01-06| 119.0| 121.4| 116.5|116.85|5094.0|     USD|      2.15|     4.9|       true|          2.15|603320.63|\n",
      "|2000-01-07|117.25|117.75| 113.8|114.15|6855.0|     USD|       3.1|    3.95|       true|           3.1|793380.58|\n",
      "+----------+------+------+------+------+------+--------+----------+--------+-----------+--------------+---------+\n",
      "only showing top 5 rows\n",
      "\n"
     ]
    }
   ],
   "source": [
    "# Compute a column called net_sales which is the average of opening, high, low, and closing cost times the volume: net_sales = avg(opening, high, low, closing price) * volume\n",
    "\n",
    "df = df.withColumn('net_sales', round(((df['open']+df['close']+df['high']+df['low']) / 4) * df['Volume'], 2))\n",
    "df.show(5)"
   ]
  },
  {
   "cell_type": "code",
   "execution_count": 150,
   "metadata": {},
   "outputs": [
    {
     "name": "stdout",
     "output_type": "stream",
     "text": [
      "+-------------------+\n",
      "|avg(open_close_abs)|\n",
      "+-------------------+\n",
      "| 1.7606027500686203|\n",
      "+-------------------+\n",
      "\n",
      "+------------------+\n",
      "|count(high_volume)|\n",
      "+------------------+\n",
      "|              1638|\n",
      "+------------------+\n",
      "\n",
      "+-----------------+\n",
      "|        avg(Open)|\n",
      "+-----------------+\n",
      "|126.0496775257701|\n",
      "+-----------------+\n",
      "\n",
      "+---------+\n",
      "|max(High)|\n",
      "+---------+\n",
      "|   306.25|\n",
      "+---------+\n",
      "\n"
     ]
    }
   ],
   "source": [
    "# Find the average of the values in the column that has the absolute values of the difference between 'Open' and 'Close'.\n",
    "df.agg(avg(col(\"open_close_abs\"))).show()\n",
    "\n",
    "# Get the count of values where the 'Volume' was less than 100.\n",
    "df.filter(df['high_volume'] == 'false').agg({'high_volume':'count'}).show()\n",
    "\n",
    "# Find the average 'Open' value.\n",
    "df.agg(avg(col(\"Open\"))).show()\n",
    "\n",
    "# Get the highest 'High' value.\n",
    "df.select(max(df.High)).show()\n"
   ]
  },
  {
   "cell_type": "code",
   "execution_count": 151,
   "metadata": {},
   "outputs": [
    {
     "name": "stderr",
     "output_type": "stream",
     "text": [
      "                                                                                \r"
     ]
    }
   ],
   "source": [
    "#Save your DataFrame (including the four added columns) to /data as a parquet file.\n",
    "df.write.parquet('./data/coffee.parquet')"
   ]
  }
 ],
 "metadata": {
  "kernelspec": {
   "display_name": "venvcr",
   "language": "python",
   "name": "python3"
  },
  "language_info": {
   "codemirror_mode": {
    "name": "ipython",
    "version": 3
   },
   "file_extension": ".py",
   "mimetype": "text/x-python",
   "name": "python",
   "nbconvert_exporter": "python",
   "pygments_lexer": "ipython3",
   "version": "3.7.16"
  },
  "orig_nbformat": 4,
  "vscode": {
   "interpreter": {
    "hash": "04ee0ce4fd339fd4a2a0b7727545bfd097941a5f705c1273b8bf2d33c3e65523"
   }
  }
 },
 "nbformat": 4,
 "nbformat_minor": 2
}
